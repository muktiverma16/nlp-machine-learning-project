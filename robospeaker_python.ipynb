{
 "cells": [
  {
   "cell_type": "code",
   "execution_count": 1,
   "id": "550b2c42-0485-47bd-9fab-7c477344becf",
   "metadata": {},
   "outputs": [],
   "source": [
    "import win32com.client as wincom\n",
    "speak = wincom.Dispatch(\"SAPI.SpVoice\")\n"
   ]
  },
  {
   "cell_type": "code",
   "execution_count": 2,
   "id": "c59272ab-85ea-45d9-a5a9-3b483d46a8c2",
   "metadata": {},
   "outputs": [
    {
     "name": "stdout",
     "output_type": "stream",
     "text": [
      "Welcome to Myspeechassistant created by Mukti.\n"
     ]
    }
   ],
   "source": [
    "import win32com.client as wincom\n",
    "speak = wincom.Dispatch(\"SAPI.SpVoice\")\n",
    "print('Welcome to Myspeechassistant created by Mukti.')\n",
    "while True:\n",
    "    x=input('Enter what you want me to speak:')\n",
    "    if x==\"q\":\n",
    "        break\n",
    "    speak.Speak(x) \n"
   ]
  },
  {
   "cell_type": "code",
   "execution_count": null,
   "id": "b8f1e4f7-96ce-4d7a-99a7-b1fc959f526e",
   "metadata": {},
   "outputs": [],
   "source": []
  }
 ],
 "metadata": {
  "kernelspec": {
   "display_name": "Python 3 (ipykernel)",
   "language": "python",
   "name": "python3"
  },
  "language_info": {
   "codemirror_mode": {
    "name": "ipython",
    "version": 3
   },
   "file_extension": ".py",
   "mimetype": "text/x-python",
   "name": "python",
   "nbconvert_exporter": "python",
   "pygments_lexer": "ipython3",
   "version": "3.9.10"
  }
 },
 "nbformat": 4,
 "nbformat_minor": 5
}
