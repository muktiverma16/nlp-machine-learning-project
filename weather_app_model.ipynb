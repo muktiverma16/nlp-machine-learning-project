{
 "cells": [
  {
   "cell_type": "code",
   "execution_count": 6,
   "id": "89d32e1d-43ef-48f8-b61d-63da00d44096",
   "metadata": {},
   "outputs": [
    {
     "data": {
      "text/plain": [
       "1"
      ]
     },
     "execution_count": 6,
     "metadata": {},
     "output_type": "execute_result"
    }
   ],
   "source": [
    "import requests\n",
    "import json\n",
    " \n",
    "import win32com.client as wincom\n",
    "speak = wincom.Dispatch(\"SAPI.SpVoice\")\n",
    "\n",
    "city=input(\"Enter city name\")\n",
    "url=f\"https://api.weatherapi.com/v1/current.json?key=44d51f55184b4e8abc072911242905&q={city}\"\n",
    "r=requests.get(url)\n",
    "#print(r.text)\n",
    "wdic=json.loads(r.text)\n",
    "w=wdic[\"current\"][\"temp_c\"]\n",
    "speak = wincom.Dispatch(\"SAPI.SpVoice\")\n",
    "\n",
    "text=\"the current weather in {city} is {w} degrees.\"\n",
    "speak.Speak(f\"the current weather in {city} is {w} degrees.\")\n",
    "\n"
   ]
  }
 ],
 "metadata": {
  "kernelspec": {
   "display_name": "Python 3 (ipykernel)",
   "language": "python",
   "name": "python3"
  },
  "language_info": {
   "codemirror_mode": {
    "name": "ipython",
    "version": 3
   },
   "file_extension": ".py",
   "mimetype": "text/x-python",
   "name": "python",
   "nbconvert_exporter": "python",
   "pygments_lexer": "ipython3",
   "version": "3.9.10"
  }
 },
 "nbformat": 4,
 "nbformat_minor": 5
}
